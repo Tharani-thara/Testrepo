{
 "cells": [
  {
   "cell_type": "markdown",
   "id": "7935f1cb-e725-4de9-b54b-426c0c1c1abe",
   "metadata": {},
   "source": [
    "# Data Science Tools and Ecosystem"
   ]
  },
  {
   "cell_type": "markdown",
   "id": "26935e98-aea7-4639-b48f-5bc0155a7e51",
   "metadata": {},
   "source": [
    "In this notebook, Data Science Tools and Ecosystem are summarized."
   ]
  },
  {
   "cell_type": "markdown",
   "id": "bde26581-51e0-435c-9cf9-3d37ddaf6e76",
   "metadata": {},
   "source": [
    "Some of the popular languages that Data Scientists use are:"
   ]
  },
  {
   "cell_type": "markdown",
   "id": "55205a33-f88b-486c-8b80-b721551d3e7c",
   "metadata": {},
   "source": [
    "1. R\n",
    "2. PYTHON\n",
    "3. JAVA\n",
    "4. SCALA\n",
    "5. VS"
   ]
  },
  {
   "cell_type": "markdown",
   "id": "e1077b37-aa95-46c3-aa9c-1883e51e153c",
   "metadata": {},
   "source": [
    "**Objectives:**\n",
    "\n",
    "- List popular languages for Data Science.\n",
    "- Summarize commonly used libraries in Data Science.\n",
    "- Introduce key Data Science tools."
   ]
  },
  {
   "cell_type": "markdown",
   "id": "fe3b502d-b45c-4a43-8205-1fe466f198ed",
   "metadata": {},
   "source": [
    "# Data Science Libraries\n",
    "Some of the commonly used libraries used by Data Scientists include:\n",
    "1.  Pandas\n",
    "2.  NumPy\n",
    "3.  Matplotlib"
   ]
  },
  {
   "cell_type": "code",
   "execution_count": null,
   "id": "70486232-880d-430f-a3d7-77aaa2215221",
   "metadata": {},
   "outputs": [],
   "source": []
  },
  {
   "cell_type": "markdown",
   "id": "ac94ec35-b4a2-4bd1-a1e1-8c0821d12403",
   "metadata": {
    "tags": []
   },
   "source": [
    "# Data Science Tools\n",
    "\n",
    "| Data Science Tools |\n",
    "| ------------------ |\n",
    "| Jupyter Notebook   |\n",
    "| RStudio            |\n",
    "| Spyder             |"
   ]
  },
  {
   "cell_type": "markdown",
   "id": "f73c92dd-aded-4508-ad7e-cd4d2daf6a6a",
   "metadata": {},
   "source": [
    "### Below are a few examples of evaluating arithmetic expressions in Python"
   ]
  },
  {
   "cell_type": "markdown",
   "id": "bf77e662-d36a-4f94-b060-bdd73b417c3b",
   "metadata": {
    "tags": []
   },
   "source": [
    "# This a simple arithmetic expression to mutiply then add integers\n"
   ]
  },
  {
   "cell_type": "code",
   "execution_count": 2,
   "id": "a0a9fbc5-e451-4ee6-9ec7-209d512fd54a",
   "metadata": {
    "tags": []
   },
   "outputs": [
    {
     "data": {
      "text/plain": [
       "17"
      ]
     },
     "execution_count": 2,
     "metadata": {},
     "output_type": "execute_result"
    }
   ],
   "source": [
    "(3*4)+5"
   ]
  },
  {
   "cell_type": "code",
   "execution_count": 4,
   "id": "27068e4a-e033-4fd0-ac29-e0d432f80c76",
   "metadata": {
    "tags": []
   },
   "outputs": [
    {
     "data": {
      "text/plain": [
       "17"
      ]
     },
     "execution_count": 4,
     "metadata": {},
     "output_type": "execute_result"
    }
   ],
   "source": [
    "# This a simple arithmetic expression to mutiply then add integers\n",
    "(3*4)+5"
   ]
  },
  {
   "cell_type": "markdown",
   "id": "7637264b-01f7-424b-8ed0-d479b6978178",
   "metadata": {},
   "source": [
    "Below are a few examples of evaluating arithmetic expressions in Python"
   ]
  },
  {
   "cell_type": "markdown",
   "id": "52a6a470-cd2f-4b8c-baf1-c9d86fe554ad",
   "metadata": {},
   "source": [
    "### Below are a few examples of evaluating arithmetic expressions in Python"
   ]
  },
  {
   "cell_type": "code",
   "execution_count": 5,
   "id": "6816b3a7-abbf-46c6-8e31-8f2523ba7b6f",
   "metadata": {
    "tags": []
   },
   "outputs": [
    {
     "data": {
      "text/plain": [
       "17"
      ]
     },
     "execution_count": 5,
     "metadata": {},
     "output_type": "execute_result"
    }
   ],
   "source": [
    "# This a simple arithmetic expression to mutiply then add integers\n",
    "(3*4)+5"
   ]
  },
  {
   "cell_type": "code",
   "execution_count": 6,
   "id": "388e3319-7823-4d3d-a5e7-85128dd15805",
   "metadata": {
    "tags": []
   },
   "outputs": [
    {
     "name": "stdout",
     "output_type": "stream",
     "text": [
      "3.3333333333333335\n"
     ]
    }
   ],
   "source": [
    "# This will convert 200 minutes to hours by diving by 60.\n",
    "hours = 200 / 60\n",
    "print(hours)"
   ]
  },
  {
   "cell_type": "markdown",
   "id": "38c74dac-ae16-4dd3-ae13-4d4b6f348640",
   "metadata": {
    "tags": []
   },
   "source": [
    "## Author \n",
    "Tharani M"
   ]
  },
  {
   "cell_type": "code",
   "execution_count": null,
   "id": "cf1f4d6e-8a0a-45a9-904b-0573dda32b0c",
   "metadata": {},
   "outputs": [],
   "source": []
  }
 ],
 "metadata": {
  "kernelspec": {
   "display_name": "Python",
   "language": "python",
   "name": "conda-env-python-py"
  },
  "language_info": {
   "codemirror_mode": {
    "name": "ipython",
    "version": 3
   },
   "file_extension": ".py",
   "mimetype": "text/x-python",
   "name": "python",
   "nbconvert_exporter": "python",
   "pygments_lexer": "ipython3",
   "version": "3.7.12"
  }
 },
 "nbformat": 4,
 "nbformat_minor": 5
}
